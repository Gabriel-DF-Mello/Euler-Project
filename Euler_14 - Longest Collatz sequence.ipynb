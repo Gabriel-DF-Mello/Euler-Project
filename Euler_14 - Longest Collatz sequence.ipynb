{
 "cells": [
  {
   "cell_type": "code",
   "execution_count": 3,
   "metadata": {},
   "outputs": [],
   "source": [
    "def SequenceLen(s):\n",
    "    c = 0\n",
    "    while s != 1:\n",
    "        if s % 2 == 0:\n",
    "            s = s/2\n",
    "            c = c + 1\n",
    "        else:\n",
    "            s = (3*s) + 1\n",
    "            c = c + 1\n",
    "    return c"
   ]
  },
  {
   "cell_type": "code",
   "execution_count": 10,
   "metadata": {},
   "outputs": [],
   "source": [
    "max_s_len = 0\n",
    "max_i = 0\n",
    "for i in range (999999,2,-1):\n",
    "    s_len = SequenceLen(i)\n",
    "    if (s_len > max_s_len):\n",
    "        max_i = i\n",
    "        max_s_len = s_len "
   ]
  },
  {
   "cell_type": "code",
   "execution_count": 11,
   "metadata": {},
   "outputs": [
    {
     "data": {
      "text/plain": [
       "837799"
      ]
     },
     "execution_count": 11,
     "metadata": {},
     "output_type": "execute_result"
    }
   ],
   "source": [
    "max_i"
   ]
  },
  {
   "cell_type": "code",
   "execution_count": null,
   "metadata": {},
   "outputs": [],
   "source": []
  }
 ],
 "metadata": {
  "kernelspec": {
   "display_name": "Python 3",
   "language": "python",
   "name": "python3"
  },
  "language_info": {
   "codemirror_mode": {
    "name": "ipython",
    "version": 3
   },
   "file_extension": ".py",
   "mimetype": "text/x-python",
   "name": "python",
   "nbconvert_exporter": "python",
   "pygments_lexer": "ipython3",
   "version": "3.6.5"
  }
 },
 "nbformat": 4,
 "nbformat_minor": 2
}
