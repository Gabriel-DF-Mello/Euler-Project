{
 "cells": [
  {
   "cell_type": "code",
   "execution_count": 22,
   "metadata": {},
   "outputs": [],
   "source": [
    "import numpy as np\n",
    "\n",
    "triangle = np.array(\n",
    "    [[75],\n",
    "    [95, 64],\n",
    "    [17, 47, 82],\n",
    "    [18, 35, 87, 10],\n",
    "    [20, 4, 82, 47, 65],\n",
    "    [19, 1, 23, 75, 3, 34],\n",
    "    [88, 2, 77, 73, 7, 63, 67],\n",
    "    [99, 65, 4, 28, 6, 16, 70, 92],\n",
    "    [41, 41, 26, 56, 83, 40, 80, 70, 33],\n",
    "    [41, 48, 72, 33, 47, 32, 37, 16, 94, 29],\n",
    "    [53, 71, 44, 65, 25, 43, 91, 52, 97, 51, 14],\n",
    "    [70, 11, 33, 28, 77, 73, 17, 78, 39, 68, 17, 57],\n",
    "    [91, 71, 52, 38, 17, 14, 91, 43, 58, 50, 27, 29, 48],\n",
    "    [63, 66, 4, 68, 89, 53, 67, 30, 73, 16, 69, 87, 40, 31],\n",
    "    [4, 62, 98, 27, 23, 9, 70, 98, 73, 93, 38, 53, 60, 4, 23]]   \n",
    ")\n",
    "\n",
    "small_triangle = np.array([\n",
    "    [3],\n",
    "    [7, 4],\n",
    "    [2, 4, 6],\n",
    "    [8, 5, 9, 3]]\n",
    ")\n",
    "\n",
    "\n"
   ]
  },
  {
   "cell_type": "code",
   "execution_count": 26,
   "metadata": {},
   "outputs": [],
   "source": [
    "def CleverMethod(triangle):\n",
    "    lines = len(triangle)\n",
    "    temp_line = []\n",
    "    \n",
    "    for i in range (lines - 2,- 1, -1):\n",
    "        for j in range(0,i + 1):\n",
    "            triangle[i][j] += max(triangle[i+1][j], triangle[i+1][j+1]);"
   ]
  },
  {
   "cell_type": "code",
   "execution_count": 27,
   "metadata": {},
   "outputs": [],
   "source": [
    "CleverMethod(triangle)"
   ]
  },
  {
   "cell_type": "code",
   "execution_count": 28,
   "metadata": {},
   "outputs": [
    {
     "name": "stdout",
     "output_type": "stream",
     "text": [
      "[[1074], [995, 999], [818, 900, 935], [704, 801, 853, 792], [686, 640, 766, 731, 782], [666, 614, 636, 684, 660, 717], [647, 501, 613, 609, 533, 657, 683], [559, 499, 479, 536, 514, 526, 594, 616], [460, 434, 419, 475, 508, 470, 510, 524, 487], [419, 365, 393, 387, 419, 425, 430, 376, 454, 322], [378, 317, 231, 321, 354, 372, 393, 354, 360, 293, 247], [325, 246, 187, 178, 256, 329, 273, 302, 263, 242, 193, 233], [255, 235, 154, 150, 140, 179, 256, 209, 224, 172, 174, 176, 148], [125, 164, 102, 95, 112, 123, 165, 128, 166, 109, 122, 147, 100, 54], [4, 62, 98, 27, 23, 9, 70, 98, 73, 93, 38, 53, 60, 4, 23]]\n"
     ]
    }
   ],
   "source": [
    "print(triangle.tolist())"
   ]
  },
  {
   "cell_type": "code",
   "execution_count": null,
   "metadata": {},
   "outputs": [],
   "source": []
  }
 ],
 "metadata": {
  "kernelspec": {
   "display_name": "Python 3",
   "language": "python",
   "name": "python3"
  },
  "language_info": {
   "codemirror_mode": {
    "name": "ipython",
    "version": 3
   },
   "file_extension": ".py",
   "mimetype": "text/x-python",
   "name": "python",
   "nbconvert_exporter": "python",
   "pygments_lexer": "ipython3",
   "version": "3.6.5"
  }
 },
 "nbformat": 4,
 "nbformat_minor": 2
}
