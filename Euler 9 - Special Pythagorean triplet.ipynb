{
 "cells": [
  {
   "cell_type": "code",
   "execution_count": 23,
   "metadata": {},
   "outputs": [],
   "source": [
    "def PythagoreanTriplet(m, n):\n",
    "    a = n**2 - m**2\n",
    "    b = 2*m*n\n",
    "    c = n**2 + m**2\n",
    "    \n",
    "    v = [a, b, c]\n",
    "    \n",
    "    if (a + b + c == 1000):\n",
    "        print()\n",
    "        print(\"m = \",m,\"  n = \",n)\n",
    "        print(v, \"=\", (a + b + c))\n",
    "        print()"
   ]
  },
  {
   "cell_type": "code",
   "execution_count": 24,
   "metadata": {},
   "outputs": [
    {
     "name": "stdout",
     "output_type": "stream",
     "text": [
      "\n",
      "m =  5   n =  20\n",
      "[375, 200, 425] = 1000\n",
      "\n"
     ]
    }
   ],
   "source": [
    "for x in range (2,501):\n",
    "    for i in range ((x + 1),(x + 50)):\n",
    "        PythagoreanTriplet(x,i)\n",
    "    "
   ]
  },
  {
   "cell_type": "code",
   "execution_count": 25,
   "metadata": {},
   "outputs": [
    {
     "name": "stdout",
     "output_type": "stream",
     "text": [
      "31875000\n"
     ]
    }
   ],
   "source": [
    "print(375*200*425)"
   ]
  },
  {
   "cell_type": "code",
   "execution_count": null,
   "metadata": {},
   "outputs": [],
   "source": []
  }
 ],
 "metadata": {
  "kernelspec": {
   "display_name": "Python 3",
   "language": "python",
   "name": "python3"
  },
  "language_info": {
   "codemirror_mode": {
    "name": "ipython",
    "version": 3
   },
   "file_extension": ".py",
   "mimetype": "text/x-python",
   "name": "python",
   "nbconvert_exporter": "python",
   "pygments_lexer": "ipython3",
   "version": "3.6.5"
  }
 },
 "nbformat": 4,
 "nbformat_minor": 2
}
